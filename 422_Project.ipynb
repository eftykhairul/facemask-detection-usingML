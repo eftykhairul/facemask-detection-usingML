{
  "cells": [
    {
      "cell_type": "code",
      "execution_count": null,
      "metadata": {
        "id": "PokJExEvgMU1"
      },
      "outputs": [],
      "source": [
        "from sklearn.model_selection import train_test_split\n",
        "import numpy as np\n",
        "import os\n",
        "import cv2\n",
        "import pandas as pd\n",
        "from sklearn.metrics import accuracy_score, confusion_matrix, classification_report\n",
        "from sklearn.model_selection import train_test_split\n",
        "import seaborn as sns # for confusion matrix\n",
        "import numpy as np\n",
        "import matplotlib.pyplot as plt # to plot image, graph"
      ]
    },
    {
      "cell_type": "code",
      "execution_count": null,
      "metadata": {
        "colab": {
          "base_uri": "https://localhost:8080/"
        },
        "id": "-ya13GvyjWUN",
        "outputId": "7a0ff975-6b9d-4fd3-a6ad-35d2557ee858"
      },
      "outputs": [
        {
          "name": "stdout",
          "output_type": "stream",
          "text": [
            "Mounted at /content/gdrive\n"
          ]
        }
      ],
      "source": [
        "from google.colab import drive\n",
        "\n",
        "drive.mount('/content/gdrive', force_remount=True)"
      ]
    },
    {
      "cell_type": "code",
      "execution_count": null,
      "metadata": {
        "id": "EBTHgOV9fn5x"
      },
      "outputs": [],
      "source": [
        "dictionary = r\"./gdrive/My Drive/data\" "
      ]
    },
    {
      "cell_type": "code",
      "execution_count": null,
      "metadata": {
        "id": "VBtA69SjgEnR"
      },
      "outputs": [],
      "source": [
        "categorize = ['WithoutMask', 'WithMask']\n",
        "img_max_size = 64\n",
        "\n",
        "#data\n",
        "X = []\n",
        "#(0,1)\n",
        "y = []\n",
        "\n",
        "def create_data():\n",
        "    for category in categorize:\n",
        "        path = os.path.join(dictionary, category)\n",
        "        class_num_label = categorize.index(category)\n",
        "        for img in os.listdir(path):\n",
        "            try:\n",
        "                img_array = cv2.imread(os.path.join(path,img), cv2.IMREAD_GRAYSCALE)\n",
        "                img_array = cv2.resize(img_array, (img_max_size,img_max_size))\n",
        "                X.append(img_array)\n",
        "                y.append(class_num_label)\n",
        "            except:\n",
        "                pass\n",
        "            \n",
        "create_data()"
      ]
    },
    {
      "cell_type": "code",
      "execution_count": null,
      "metadata": {
        "id": "dUs46uboCldL"
      },
      "outputs": [],
      "source": [
        "#-------------------Convert to Numpy --------------\n",
        "sample_size = len(y)\n",
        "X = np.array(X).flatten().reshape(sample_size, img_max_size*img_max_size) # pixel-features"
      ]
    },
    {
      "cell_type": "code",
      "execution_count": null,
      "metadata": {
        "colab": {
          "base_uri": "https://localhost:8080/"
        },
        "id": "zjT3F5TLjplo",
        "outputId": "79d7f784-b78d-400e-e871-d92ee17d8e76"
      },
      "outputs": [
        {
          "name": "stdout",
          "output_type": "stream",
          "text": [
            "Accuracy score of Decision Tree:  0.7498345466578424\n"
          ]
        }
      ],
      "source": [
        "#------------------------Decision Tree------------- \n",
        "\n",
        "from sklearn.tree import DecisionTreeClassifier\n",
        "from sklearn.metrics import accuracy_score\n",
        "from sklearn.model_selection import train_test_split\n",
        "X_train,X_test,y_train,y_test = train_test_split(X,y,test_size=0.2,random_state=1)\n",
        "clf = DecisionTreeClassifier(criterion='entropy',random_state=1)\n",
        "clf.fit(X_train, y_train)\n",
        "y_pred = clf.predict(X_test)\n",
        "score=accuracy_score( y_test,y_pred)\n",
        "print(\"Accuracy score of Decision Tree: \",(score))\n"
      ]
    },
    {
      "cell_type": "code",
      "execution_count": null,
      "metadata": {
        "colab": {
          "base_uri": "https://localhost:8080/",
          "height": 451
        },
        "id": "p6qb8QWSko3Q",
        "outputId": "dcd35d4a-87ad-4bb1-eeeb-ed85387b071a"
      },
      "outputs": [
        {
          "name": "stdout",
          "output_type": "stream",
          "text": [
            "\n",
            "Classification Report DecisionTree\n",
            "               precision    recall  f1-score   support\n",
            "\n",
            "           0       0.76      0.74      0.75       767\n",
            "           1       0.74      0.76      0.75       744\n",
            "\n",
            "    accuracy                           0.75      1511\n",
            "   macro avg       0.75      0.75      0.75      1511\n",
            "weighted avg       0.75      0.75      0.75      1511\n",
            "\n"
          ]
        },
        {
          "data": {
            "image/png": "[encoded data removed]",
            "text/plain": [
              "<Figure size 288x288 with 2 Axes>"
            ]
          },
          "metadata": {
            "needs_background": "light"
          },
          "output_type": "display_data"
        }
      ],
      "source": [
        "# Calculate Confusion Matrix\n",
        "cm = confusion_matrix(y_test, y_pred)\n",
        "plt.figure(figsize=(4,4))\n",
        "# Heatmap visualization of accuracy\n",
        "sns.heatmap(cm,annot=True,fmt='.3f',linewidths=.5,square=True, cmap='OrRd_r')\n",
        "plt.ylabel('Actual label')\n",
        "plt.xlabel('Predicted label')\n",
        "title = 'Accuracy Score of Decision Tree {0}'.format(accuracy_score(y_test, y_pred))\n",
        "plt.title(title,size=8)\n",
        "\n",
        "#Classfication\n",
        "print(\"\\nClassification Report DecisionTree\\n\", classification_report(y_test, y_pred))\n"
      ]
    },
    {
      "cell_type": "code",
      "execution_count": null,
      "metadata": {
        "colab": {
          "base_uri": "https://localhost:8080/"
        },
        "id": "idG5RmUPk83d",
        "outputId": "b4bd6243-f126-4141-c1e8-347bb93ba3f6"
      },
      "outputs": [
        {
          "name": "stdout",
          "output_type": "stream",
          "text": [
            "Accuracy Score of Logistic Regression: 0.6671078755790867\n"
          ]
        }
      ],
      "source": [
        "#-----------------Logistic Regression---------\n",
        "from sklearn.linear_model import LogisticRegression\n",
        "from sklearn.metrics import accuracy_score\n",
        "from sklearn.preprocessing import StandardScaler\n",
        "X_train, X_test, y_train, y_test = train_test_split(X, y, test_size=0.2, random_state=0)\n",
        "model = LogisticRegression( max_iter=3000)\n",
        "sc_x = StandardScaler()\n",
        "xtrain = sc_x.fit_transform(X_train)\n",
        "xtest = sc_x.transform(X_test)\n",
        "model=model.fit(xtrain, y_train) #Training the model\n",
        "predictions = model.predict(xtest)\n",
        "accur=accuracy_score(y_test, predictions)\n",
        "print(\"Accuracy Score of Logistic Regression:\", accur)"
      ]
    },
    {
      "cell_type": "code",
      "execution_count": null,
      "metadata": {
        "colab": {
          "base_uri": "https://localhost:8080/",
          "height": 451
        },
        "id": "hWb0UHMDlNXM",
        "outputId": "7c7b8686-7859-4321-d880-3d473baad215"
      },
      "outputs": [
        {
          "name": "stdout",
          "output_type": "stream",
          "text": [
            "\n",
            "Classification Report Logistic Regression\n",
            "               precision    recall  f1-score   support\n",
            "\n",
            "           0       0.65      0.73      0.69       766\n",
            "           1       0.68      0.61      0.64       745\n",
            "\n",
            "    accuracy                           0.67      1511\n",
            "   macro avg       0.67      0.67      0.67      1511\n",
            "weighted avg       0.67      0.67      0.67      1511\n",
            "\n"
          ]
        },
        {
          "data": {
            "image/png": "[encoded data removed]",
            "text/plain": [
              "<Figure size 288x288 with 2 Axes>"
            ]
          },
          "metadata": {
            "needs_background": "light"
          },
          "output_type": "display_data"
        }
      ],
      "source": [
        "# Calculate Confusion Matrix\n",
        "cm2 = confusion_matrix(y_test, predictions)\n",
        "plt.figure(figsize=(4,4))\n",
        "# Heatmap visualization of accuracy\n",
        "sns.heatmap(cm2,annot=True, fmt='.3f', linewidths=.5, square=True,cmap='OrRd_r')\n",
        "plt.ylabel('Actual label')\n",
        "plt.xlabel('Predicted label')\n",
        "title = 'Accuracy Score of Logistic Regression {0}'.format(accuracy_score(y_test, predictions))\n",
        "plt.title(title,size=8)\n",
        "\n",
        "\n",
        "#Classfication\n",
        "print(\"\\nClassification Report Logistic Regression\\n\", classification_report(y_test, predictions))"
      ]
    },
    {
      "cell_type": "code",
      "execution_count": null,
      "metadata": {
        "colab": {
          "base_uri": "https://localhost:8080/"
        },
        "id": "pNnPtZTglTrJ",
        "outputId": "949ba96b-fe23-4c41-a3f7-2a7a2a6b5e59"
      },
      "outputs": [
        {
          "name": "stdout",
          "output_type": "stream",
          "text": [
            "Accuracy Score of Naive Bayers 0.6770350761085374\n"
          ]
        }
      ],
      "source": [
        "#---------------------Naive Bayers--------------------\n",
        "from sklearn.naive_bayes import GaussianNB\n",
        "X_train, X_test, y_train, y_test= train_test_split(X, y, test_size=0.2, random_state=0)\n",
        "gnb = GaussianNB()\n",
        "gnb.fit(X_train, y_train)\n",
        "y_predict = gnb.predict(X_test)\n",
        "#prediction =  accuracy_score(y_test, y_predict)\n",
        "print('Accuracy Score of Naive Bayers {0}'.format(accuracy_score(y_test, y_predict)))"
      ]
    },
    {
      "cell_type": "code",
      "execution_count": null,
      "metadata": {
        "colab": {
          "base_uri": "https://localhost:8080/",
          "height": 451
        },
        "id": "z3JeIMweldng",
        "outputId": "105063d1-be7f-462f-8e99-4ebe0da1a61a"
      },
      "outputs": [
        {
          "name": "stdout",
          "output_type": "stream",
          "text": [
            "\n",
            "Classification Report Naive Bayers \n",
            "               precision    recall  f1-score   support\n",
            "\n",
            "           0       0.68      0.70      0.69       766\n",
            "           1       0.68      0.65      0.67       745\n",
            "\n",
            "    accuracy                           0.68      1511\n",
            "   macro avg       0.68      0.68      0.68      1511\n",
            "weighted avg       0.68      0.68      0.68      1511\n",
            "\n"
          ]
        },
        {
          "data": {
            "image/png": "[encoded data removed]",
            "text/plain": [
              "<Figure size 288x288 with 2 Axes>"
            ]
          },
          "metadata": {
            "needs_background": "light"
          },
          "output_type": "display_data"
        }
      ],
      "source": [
        "# Calculate Confusion Matrix\n",
        "cm3 = confusion_matrix( y_test,y_predict)\n",
        "plt.figure(figsize=(4,4))\n",
        "# Heatmap visualization of accuracy\n",
        "sns.heatmap(cm3,annot=True, fmt='.3f', linewidths=.5, square=True,cmap='OrRd_r')\n",
        "plt.ylabel('Actual label')\n",
        "plt.xlabel('Predicted label')\n",
        "title = 'Accuracy Score of Naive Bayers Regression {0}'.format(accuracy_score(y_test, y_predict))\n",
        "plt.title(title,size=8)\n",
        "\n",
        "\n",
        "#Classfication\n",
        "print(\"\\nClassification Report Naive Bayers \\n\", classification_report( y_test,y_predict))"
      ]
    }
  ],
  "metadata": {
    "colab": {
      "collapsed_sections": [],
      "provenance": []
    },
    "kernelspec": {
      "display_name": "Python 3.9.13 64-bit (microsoft store)",
      "language": "python",
      "name": "python3"
    },
    "language_info": {
      "name": "python",
      "version": "3.9.13"
    },
    "vscode": {
      "interpreter": {
        "hash": "07c3a98431b513a05678a4f58a817834c9b5da7a769e43c202a273289ce50c45"
      }
    }
  },
  "nbformat": 4,
  "nbformat_minor": 0
}
